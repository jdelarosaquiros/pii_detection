{
 "cells": [
  {
   "cell_type": "code",
   "execution_count": 1,
   "metadata": {},
   "outputs": [
    {
     "name": "stderr",
     "output_type": "stream",
     "text": [
      "[nltk_data] Downloading package punkt to /root/nltk_data...\n",
      "[nltk_data]   Package punkt is already up-to-date!\n"
     ]
    }
   ],
   "source": [
    "import json\n",
    "from vllm import LLM, SamplingParams\n",
    "from transformers import AutoTokenizer\n",
    "import random\n",
    "import json\n",
    "import nltk\n",
    "from termcolor import colored\n",
    "from datasets import load_dataset\n",
    "from huggingface_hub import login\n",
    "from generate_pii_dataset import generate_pii_dataset\n",
    "from utils.pii_injection_utils import (\n",
    "    get_pii_list,\n",
    "    generate_data_transition,\n",
    "    generate_text_transition,\n",
    ")"
   ]
  },
  {
   "cell_type": "markdown",
   "metadata": {},
   "source": [
    "## Load Model and Datasets"
   ]
  },
  {
   "cell_type": "code",
   "execution_count": 2,
   "metadata": {},
   "outputs": [
    {
     "data": {
      "application/vnd.jupyter.widget-view+json": {
       "model_id": "5394fe247eb244e5949088c862f9259a",
       "version_major": 2,
       "version_minor": 0
      },
      "text/plain": [
       "VBox(children=(HTML(value='<center> <img\\nsrc=https://huggingface.co/front/assets/huggingface_logo-noborder.sv…"
      ]
     },
     "metadata": {},
     "output_type": "display_data"
    }
   ],
   "source": [
    "# Login to huggingface\n",
    "\n",
    "login()"
   ]
  },
  {
   "cell_type": "code",
   "execution_count": 3,
   "metadata": {},
   "outputs": [
    {
     "name": "stdout",
     "output_type": "stream",
     "text": [
      "INFO 06-01 20:55:43 llm_engine.py:161] Initializing an LLM engine (v0.4.3) with config: model='meta-llama/Meta-Llama-3-8B-Instruct', speculative_config=None, tokenizer='meta-llama/Meta-Llama-3-8B-Instruct', skip_tokenizer_init=False, tokenizer_mode=auto, revision=None, rope_scaling=None, tokenizer_revision=None, trust_remote_code=False, dtype=torch.bfloat16, max_seq_len=8192, download_dir=None, load_format=LoadFormat.AUTO, tensor_parallel_size=1, disable_custom_all_reduce=False, quantization=None, enforce_eager=False, kv_cache_dtype=auto, quantization_param_path=None, device_config=cuda, decoding_config=DecodingConfig(guided_decoding_backend='outlines'), seed=0, served_model_name=meta-llama/Meta-Llama-3-8B-Instruct)\n"
     ]
    },
    {
     "name": "stderr",
     "output_type": "stream",
     "text": [
      "/root/miniconda3/envs/pii_env/lib/python3.10/site-packages/huggingface_hub/file_download.py:1132: FutureWarning: `resume_download` is deprecated and will be removed in version 1.0.0. Downloads always resume when possible. If you want to force a new download, use `force_download=True`.\n",
      "  warnings.warn(\n",
      "Special tokens have been added in the vocabulary, make sure the associated word embeddings are fine-tuned or trained.\n"
     ]
    },
    {
     "name": "stdout",
     "output_type": "stream",
     "text": [
      "WARNING 06-01 20:55:43 utils.py:451] Using 'pin_memory=False' as WSL is detected. This may slow down the performance.\n",
      "INFO 06-01 20:55:44 weight_utils.py:207] Using model weights format ['*.safetensors']\n"
     ]
    },
    {
     "data": {
      "application/vnd.jupyter.widget-view+json": {
       "model_id": "e8c29595277546488c1e17800c8b0ffe",
       "version_major": 2,
       "version_minor": 0
      },
      "text/plain": [
       "model.safetensors.index.json:   0%|          | 0.00/23.9k [00:00<?, ?B/s]"
      ]
     },
     "metadata": {},
     "output_type": "display_data"
    },
    {
     "name": "stdout",
     "output_type": "stream",
     "text": [
      "INFO 06-01 20:55:50 model_runner.py:146] Loading model weights took 14.9595 GB\n",
      "INFO 06-01 20:55:51 gpu_executor.py:83] # GPU blocks: 2191, # CPU blocks: 2048\n",
      "INFO 06-01 20:55:51 model_runner.py:854] Capturing the model for CUDA graphs. This may lead to unexpected consequences if the model is not static. To run the model in eager mode, set 'enforce_eager=True' or use '--enforce-eager' in the CLI.\n",
      "INFO 06-01 20:55:51 model_runner.py:858] CUDA graphs can take additional 1~3 GiB memory per GPU. If you are running out of memory, consider decreasing `gpu_memory_utilization` or enforcing eager mode. You can also reduce the `max_num_seqs` as needed to decrease memory usage.\n",
      "INFO 06-01 20:55:54 model_runner.py:924] Graph capturing finished in 3 secs.\n"
     ]
    },
    {
     "name": "stderr",
     "output_type": "stream",
     "text": [
      "Special tokens have been added in the vocabulary, make sure the associated word embeddings are fine-tuned or trained.\n"
     ]
    }
   ],
   "source": [
    "# Load the model and tokenizer\n",
    "model_id = \"meta-llama/Meta-Llama-3-8B-Instruct\" \n",
    "\n",
    "model = LLM(model=model_id, gpu_memory_utilization=0.9, tensor_parallel_size=1)\n",
    "tokenizer = AutoTokenizer.from_pretrained(model_id)"
   ]
  },
  {
   "cell_type": "code",
   "execution_count": 4,
   "metadata": {},
   "outputs": [
    {
     "data": {
      "text/plain": [
       "{'name': [],\n",
       " 'email': ['ilpisug@zot.ci',\n",
       "  'WAYNEvagjuv@ize.sl',\n",
       "  'SKINNY@bibdivo.su',\n",
       "  'Holt@ginsaufo.es',\n",
       "  'Elvapattersonsahavi@ho.re'],\n",
       " 'username': [],\n",
       " 'id_number': ['6919978449503183',\n",
       "  '019847530123598764',\n",
       "  '13789',\n",
       "  '78-47--2-2-5--32-96--5052836',\n",
       "  '4797_4_350'],\n",
       " 'phone_number': ['02 (320 537) 8935203', ' (823) 276 3 1564'],\n",
       " 'street_address': [],\n",
       " 'url': []}"
      ]
     },
     "execution_count": 4,
     "metadata": {},
     "output_type": "execute_result"
    }
   ],
   "source": [
    "# Generate or load PII samples\n",
    "with open('grouped_pii_samples.json', 'r') as f:\n",
    "    grouped_pii_samples = json.load(f)\n",
    "\n",
    "grouped_pii_samples[0]"
   ]
  },
  {
   "cell_type": "code",
   "execution_count": 5,
   "metadata": {},
   "outputs": [
    {
     "data": {
      "text/plain": [
       "DatasetDict({\n",
       "    train: Dataset({\n",
       "        features: ['TEXT', 'SOURCE', '__index_level_0__'],\n",
       "        num_rows: 128293\n",
       "    })\n",
       "})"
      ]
     },
     "execution_count": 5,
     "metadata": {},
     "output_type": "execute_result"
    }
   ],
   "source": [
    "# Load source texts\n",
    "essay_dataset = load_dataset(\"qwedsacf/ivypanda-essays\")\n",
    "essay_dataset"
   ]
  },
  {
   "cell_type": "markdown",
   "metadata": {},
   "source": [
    "## Test PII Injection with a Sample"
   ]
  },
  {
   "cell_type": "code",
   "execution_count": 42,
   "metadata": {},
   "outputs": [],
   "source": [
    "# This function inserts PII into the text\n",
    "# Modify this function to change how the PII is inserted into the text\n",
    "def generate_pii_text(model, tokenizer, sampling_params, text, pii_list, split_by_sentence=True, max_piis=None):\n",
    "    splitted_text = nltk.sent_tokenize(text) if split_by_sentence else text.split(' ')\n",
    "\n",
    "    for i, (pii, label) in enumerate(pii_list):\n",
    "        if max_piis is not None and i >= max_piis:\n",
    "            break\n",
    "\n",
    "        pii_insert_index = random.randint(0, len(splitted_text))\n",
    "        first_text = ' '.join(splitted_text[:pii_insert_index])\n",
    "        second_text = ' '.join(splitted_text[pii_insert_index:])\n",
    "\n",
    "        transition = generate_data_transition(model, tokenizer, sampling_params, first_text, data=pii, data_type=label)\n",
    "        transition_before = transition\n",
    "        first_text = f\"{first_text} {colored(transition_before, 'green')} {pii}\"\n",
    "\n",
    "        transition = generate_text_transition(model, tokenizer, sampling_params, first_text=first_text, second_text=second_text)\n",
    "        transition_after = transition\n",
    "\n",
    "        splitted_text.insert(pii_insert_index, f\"{colored(transition_before, 'green')} {colored(pii, 'blue')} {colored(transition_after, 'green')}\")\n",
    "    \n",
    "    pii_text = ' '.join(splitted_text)\n",
    "\n",
    "    return pii_text"
   ]
  },
  {
   "cell_type": "code",
   "execution_count": 31,
   "metadata": {},
   "outputs": [],
   "source": [
    "# Select which sample and text to test\n",
    "sample_index = 0\n",
    "text_index = 0\n",
    "max_piis = None # Set to None to inject all PIIs or set to a number to inject a maximum number of PIIs"
   ]
  },
  {
   "cell_type": "code",
   "execution_count": 32,
   "metadata": {},
   "outputs": [
    {
     "data": {
      "text/plain": [
       "{'name': [],\n",
       " 'email': ['ilpisug@zot.ci',\n",
       "  'WAYNEvagjuv@ize.sl',\n",
       "  'SKINNY@bibdivo.su',\n",
       "  'Holt@ginsaufo.es',\n",
       "  'Elvapattersonsahavi@ho.re'],\n",
       " 'username': [],\n",
       " 'id_number': ['6919978449503183',\n",
       "  '019847530123598764',\n",
       "  '13789',\n",
       "  '78-47--2-2-5--32-96--5052836',\n",
       "  '4797_4_350'],\n",
       " 'phone_number': ['02 (320 537) 8935203', ' (823) 276 3 1564'],\n",
       " 'street_address': [],\n",
       " 'url': []}"
      ]
     },
     "execution_count": 32,
     "metadata": {},
     "output_type": "execute_result"
    }
   ],
   "source": [
    "# Set pii sample\n",
    "pii_sample = grouped_pii_samples[sample_index]\n",
    "pii_sample"
   ]
  },
  {
   "cell_type": "code",
   "execution_count": 33,
   "metadata": {},
   "outputs": [
    {
     "name": "stdout",
     "output_type": "stream",
     "text": [
      "12 Years a Slave: An Analysis of the Film Essay\n",
      "\n",
      "The 2013 film 12 Years a Slave proved that slavery is a worldwide issue. Indeed, the film made $150 million outside the United States and $57 million in the U.S., with a production budget of $20 million (Sharf, 2020). The movie was based on the memoir Twelve Years a Slave by Solomon Northup (Ntim, 2020). It tells the story of a free African American man who was kidnapped and sold into slavery. Solomon spent twelve years away from his family, being traded from one master to another. Fortunately, the protagonist met a person who helped him deliver a message to his family and friends, who came and rescued him. This movie accurately illustrates discriminatory relationships between white slaveholders and black slaves that stemmed from the dysfunctional system in the country and prejudices in people’s mindsets at that time.\n",
      "\n",
      "The two main ethnic groups presented in this film are White and African Americans, and the three social groups are affluent slaveholders, working for middle class, and enslaved people. The movie starts with the story of a free African American violinist Solomon Northup, living with his family in Saratoga, New York (McQueen, 2013). However, he was abducted by two white men, who tortured the man and sold him into slavery, changing his name to Plat. Before they met, Solomon and these two slave traders belonged to the same middle class. However, the fact that Northup was an African American made these individuals believe that they had the right to withdraw their freedom. The two masters that Solomon had were William Ford and Edwin Epps (McQueen, 2013). The former was kind and religious, while the latter was cruel and sadistic. Since the movie was based on a real story, it indicated that slaveholders had different characters, but all had the wrong perception of race.\n",
      "\n",
      "Although 12 Years a Slave is a film about slavery, the issues of collectivism and individualism are also raised. Specifically, the main character never identified himself as an enslaved man and continued claiming he was a free citizen (McQueen, 2013). However, his counterparts on the plant had a collective mindset, imprinted in them since childhood, that slavery is normal. These people helped each other because they belonged to the same group. Although Solomon tried to become a part of this community, his individual goal to return home was above the collective values.\n",
      "\n",
      "The movie also showed prejudice, generalizations, stereotyping, and discrimination against black people. For instance, when Ford brings Solomon and Elisa to his plantation, his wife expresses her sadness that Elisa got separated from her children. However, she also stated that “something to eat and some rest” could help that woman forget her children (McQueen, 2013, 32:47-32:51). This scene demonstrated the common prejudice about slaves that they were not capable of the same feelings as white people. An example of generalization and stereotyping was how Tibeats, a carpenter, became hostile to Solomon when he showed his intelligence and gave Ford advice. In fact, Tibeats believed that Plat would never be more competent than any white individual because Plat was a “nigger” (McQueen, 2013, 36:35-36:37). Notably, before Northup became enslaved, he never experienced discrimination, but when the main character was sold into slavery, discrimination was the only attitude that he could observe.\n",
      "\n",
      "In summary, 12 Years a Slave depicts the life of enslaved people and slave owners almost two centuries ago. The film narrates a free black man’s life from the moment when he enjoyed his family’s company in the state of New York to his abduction, enslavement, and eventual liberation. Overall, the movie raised such critical issues as discrimination, prejudice, stereotyping, and generalization that allowed slaveholders to maintain this societal structure for a long time.\n",
      "\n",
      "References\n",
      "\n",
      "McQueen, S. (2013). 12 years a slave [Film]. New Regency Productions.\n",
      "\n",
      "Ntim, Z. (2020). Steve McQueen says it took 11 years to create his new anthology “Small Axe” and reveals why producers almost pulled out of his Oscar-winning film “12 Years a Slave.” Insider.\n",
      "\n",
      "Sharf, Z. (2020). Steve McQueen recalls producers rejecting “12 Years a Slave” over false beliefs about black films. Indie Wire.\n",
      "\n"
     ]
    }
   ],
   "source": [
    "# Set text to be injected with PII\n",
    "text = essay_dataset['train'][text_index]['TEXT']\n",
    "print(text)"
   ]
  },
  {
   "cell_type": "code",
   "execution_count": 45,
   "metadata": {},
   "outputs": [
    {
     "name": "stdout",
     "output_type": "stream",
     "text": [
      "[('ilpisug@zot.ci', 'email'), (' (823) 276 3 1564', 'phone_number'), ('Elvapattersonsahavi@ho.re', 'email'), ('WAYNEvagjuv@ize.sl', 'email'), ('78-47--2-2-5--32-96--5052836', 'id_number'), ('13789', 'id_number'), ('019847530123598764', 'id_number'), ('SKINNY@bibdivo.su', 'email'), ('6919978449503183', 'id_number'), ('02 (320 537) 8935203', 'phone_number'), ('Holt@ginsaufo.es', 'email'), ('4797_4_350', 'id_number')]\n"
     ]
    },
    {
     "name": "stderr",
     "output_type": "stream",
     "text": [
      "Processed prompts: 100%|██████████| 1/1 [00:01<00:00,  1.48s/it, Generation Speed: 37.85 toks/s]\n",
      "Processed prompts: 100%|██████████| 1/1 [00:17<00:00, 17.23s/it, Generation Speed: 49.98 toks/s]\n",
      "Processed prompts: 100%|██████████| 1/1 [00:07<00:00,  7.35s/it, Generation Speed: 48.71 toks/s]\n",
      "Processed prompts: 100%|██████████| 1/1 [00:11<00:00, 11.05s/it, Generation Speed: 49.32 toks/s]\n",
      "Processed prompts: 100%|██████████| 1/1 [00:01<00:00,  1.27s/it, Generation Speed: 44.83 toks/s]\n",
      "Processed prompts: 100%|██████████| 1/1 [00:20<00:00, 20.48s/it, Generation Speed: 48.84 toks/s]\n",
      "Processed prompts: 100%|██████████| 1/1 [00:03<00:00,  3.59s/it, Generation Speed: 48.76 toks/s]\n",
      "Processed prompts: 100%|██████████| 1/1 [00:03<00:00,  3.41s/it, Generation Speed: 48.68 toks/s]\n",
      "Processed prompts: 100%|██████████| 1/1 [00:01<00:00,  1.23s/it, Generation Speed: 47.88 toks/s]\n",
      "Processed prompts: 100%|██████████| 1/1 [00:07<00:00,  7.92s/it, Generation Speed: 50.91 toks/s]\n",
      "Processed prompts: 100%|██████████| 1/1 [00:03<00:00,  3.37s/it, Generation Speed: 49.53 toks/s]\n"
     ]
    },
    {
     "name": "stdout",
     "output_type": "stream",
     "text": [
      "Unexpected Error: {\"text\": \"the three social groups are affluent slaveholders, working for middle class, and enslaved people. The movie starts with the story of a free African American violinist Solomon Northup, living with his family in Saratoga, New York (McQueen, 2013). However, he was abducted by two white men, who tortured the man and sold him into slavery, changing his name to Plat. Before they met, Solomon and these two slave traders belonged to \u001b[32mwho had an id number\u001b[0m \u001b[34m78-47--2-2-5--32-96--5052836\u001b[0m \u001b[32mwho were from the same middle class, but their racial biases and prejudices led them to treat Northup as a slave, despite their shared socioeconomic background.\n"
     ]
    },
    {
     "name": "stderr",
     "output_type": "stream",
     "text": [
      "Processed prompts: 100%|██████████| 1/1 [00:09<00:00,  9.82s/it, Generation Speed: 50.31 toks/s]\n",
      "Processed prompts: 100%|██████████| 1/1 [00:11<00:00, 11.62s/it, Generation Speed: 49.84 toks/s]\n",
      "Processed prompts: 100%|██████████| 1/1 [00:06<00:00,  6.24s/it, Generation Speed: 50.17 toks/s]\n",
      "Processed prompts: 100%|██████████| 1/1 [00:01<00:00,  1.29s/it, Generation Speed: 49.65 toks/s]\n",
      "Processed prompts: 100%|██████████| 1/1 [00:05<00:00,  5.45s/it, Generation Speed: 50.62 toks/s]\n",
      "Processed prompts: 100%|██████████| 1/1 [00:03<00:00,  3.40s/it, Generation Speed: 49.41 toks/s]\n"
     ]
    },
    {
     "name": "stdout",
     "output_type": "stream",
     "text": [
      "Unexpected Error: {\"text\": \"nd the three social groups are affluent slaveholders, working for middle class, and enslaved people. The movie starts with the story of a free African American violinist Solomon Northup, living with his family in Saratoga, New York (McQueen, 2013). However, he was abducted by two white men, who tortured the man and sold him into slavery, changing his name to Plat. Before they met, Solomon and these two slave traders belonged to \u001b[32mwho had an id number\u001b[0m \u001b[34m78-47--2-2-5--32-96--5052836\u001b[0m \u001b[32mwho were from the same middle class, but their racial biases and prejudices led them to treat Northup as a slave, despite their shared socioeconomic background.\n"
     ]
    },
    {
     "name": "stderr",
     "output_type": "stream",
     "text": [
      "Processed prompts: 100%|██████████| 1/1 [00:06<00:00,  6.46s/it, Generation Speed: 49.89 toks/s]\n",
      "Processed prompts: 100%|██████████| 1/1 [00:05<00:00,  5.78s/it, Generation Speed: 50.69 toks/s]\n",
      "Processed prompts: 100%|██████████| 1/1 [00:09<00:00,  9.32s/it, Generation Speed: 49.92 toks/s]\n",
      "Processed prompts: 100%|██████████| 1/1 [00:01<00:00,  1.21s/it, Generation Speed: 48.80 toks/s]\n",
      "Processed prompts: 100%|██████████| 1/1 [00:10<00:00, 10.97s/it, Generation Speed: 50.16 toks/s]\n",
      "Processed prompts: 100%|██████████| 1/1 [00:07<00:00,  7.63s/it, Generation Speed: 49.97 toks/s]\n",
      "Processed prompts: 100%|██████████| 1/1 [00:10<00:00, 10.05s/it, Generation Speed: 49.04 toks/s]"
     ]
    },
    {
     "name": "stdout",
     "output_type": "stream",
     "text": [
      "\n",
      "12 Years a Slave: An Analysis of the Film Essay\n",
      "\n",
      "The 2013 film 12 Years a Slave proved that slavery is a worldwide issue. Indeed, the film made $150 million outside the United States and $57 million in the U.S., with a production budget of $20 million (Sharf, 2020). The movie was based on the memoir Twelve Years a Slave by Solomon Northup (Ntim, 2020). It tells the story of a free African American man who was kidnapped and sold into slavery. Solomon spent twelve years away from his family, being traded from one master to another. Fortunately, the protagonist met a person who helped him deliver a message to \u001b[32mwho helped him deliver a message to his wife, and she was able to arrange his rescue\u001b[0m \u001b[34mHolt@ginsaufo.es\u001b[0m \u001b[32mFurthermore, the film's portrayal of the brutal realities of slavery and the struggles of its protagonist serves as a stark reminder of the ongoing impact of slavery on individuals and society, and the need to continue to confront and address the lingering effects of this dark chapter in human history.\u001b[0m \u001b[32mwho helped him deliver a message to his family, and ultimately escape from slavery, thanks to the help of\u001b[0m \u001b[34mSKINNY@bibdivo.su\u001b[0m \u001b[32mThe film's powerful portrayal of the brutal realities of slavery and the struggles of its protagonist serves as a stark reminder of the ongoing impact of slavery on individuals and society, and the need to continue to confront and address the lingering effects of this dark chapter in human history.\u001b[0m his family and friends, who came and rescued him. This movie accurately illustrates discriminatory relationships between white slaveholders and black slaves that stemmed from the dysfunctional system in the country and prejudices in people’s mindsets at that time.\n",
      "\n",
      "The two \u001b[32m\u001b[0m \u001b[34m02 (320 537) 8935203\u001b[0m \u001b[32mMoreover, the film highlights the complexities of human relationships, showcasing the brutal realities of slavery and the struggles of its protagonist, as well as the varied characters of slaveholders, from kind and religious to cruel and sadistic.\u001b[0m main ethnic groups presented in this film are White and African Americans, and the three social groups are affluent slaveholders, working for middle class, and enslaved people. The movie starts with the story of a free African American violinist Solomon Northup, living with his family in Saratoga, New York (McQueen, 2013). However, he was abducted by two white men, who tortured the man and sold him into slavery, changing his name to Plat. Before they met, Solomon and these two slave traders belonged to \u001b[32mwho had an id number\u001b[0m \u001b[34m78-47--2-2-5--32-96--5052836\u001b[0m \u001b[32mwho were from the same middle class, but their racial biases and prejudices led them to treat Northup as a slave, despite their shared socioeconomic background.\u001b[0m the same middle class. However, the fact that Northup was an African American made these individuals believe that they had the right to withdraw their \u001b[32mand his phone number is\u001b[0m \u001b[34m (823) 276 3 1564\u001b[0m \u001b[32mThrough its powerful storytelling and historical accuracy, the film raises important questions about the nature of slavery, racism, and the impact it has on individuals and society.\u001b[0m freedom. The two masters that Solomon had were William Ford and Edwin Epps (McQueen, 2013). The former was kind and religious, while the latter was cruel and sadistic. Since the movie was based on a real story, it indicated that slaveholders had different characters, but all had the wrong perception of race.\n",
      "\n",
      "Although 12 Years a Slave is a film about slavery, the issues of collectivism and individualism are also raised. Specifically, the main character never identified himself as an enslaved man and continued claiming he was a free citizen (McQueen, 2013). However, his counterparts on the plant had a collective mindset, imprinted in them since childhood, that slavery is normal. These people helped each other because they belonged to the same group. Although Solomon tried to become a part of this community, his individual goal to return home was above the collective values.\n",
      "\n",
      "The movie also showed prejudice, \u001b[32m\u001b[0m \u001b[34m4797_4_350\u001b[0m \u001b[32mThe film's exploration of these themes and issues is what makes it so powerful and thought-provoking, allowing audiences to connect with the characters and their struggles on a deeper level.\u001b[0m generalizations, stereotyping, and discrimination against black people. For instance, when Ford brings Solomon and Elisa to his plantation, his wife expresses her sadness that Elisa got separated from her children. However, she also stated that “something to eat and some rest” could help that woman forget her children (McQueen, 2013, 32:47-32:51). This scene demonstrated the common prejudice about slaves that they were not \u001b[32mThe film's success can be attributed to its ability to connect with audiences through\u001b[0m \u001b[34milpisug@zot.ci\u001b[0m \u001b[32mThe film's exploration of these themes and issues is what makes it so powerful and thought-provoking, allowing audiences to connect with the characters and their struggles on a deeper level.\u001b[0m capable of the same feelings as white people. An example of generalization and stereotyping was how Tibeats, a carpenter, became hostile to Solomon when he showed his intelligence and gave Ford advice. In fact, Tibeats believed that Plat would never be more competent than any white individual because Plat was a “nigger” (McQueen, 2013, 36:35-36:37). Notably, before Northup became enslaved, he never \u001b[32mThe film's success can be attributed to its ability to connect with audiences through\u001b[0m \u001b[34mElvapattersonsahavi@ho.re\u001b[0m \u001b[32mThe film's exploration of these themes and issues is what makes it so powerful and thought-provoking, allowing audiences to connect with the characters and their struggles on a deeper level.\u001b[0m experienced discrimination, but when the main character was \u001b[32mThe film's director, Steve McQueen, also used the movie to highlight the importance of an email address like\u001b[0m \u001b[34mWAYNEvagjuv@ize.sl\u001b[0m \u001b[32mThe film, directed by Steve McQueen, tells the story of Solomon Northup, a free African American violinist who was kidnapped and sold into slavery, and his struggles to maintain his identity and dignity in the face of brutal treatment and dehumanization.\u001b[0m sold into slavery, discrimination was the only attitude that \u001b[32m\u001b[0m \u001b[34m6919978449503183\u001b[0m \u001b[32mThe film, directed by Steve McQueen, tells the story of Solomon Northup, a free African American violinist who was kidnapped and sold into slavery, and his struggles to maintain his identity and dignity in the face of brutal treatment and dehumanization.\u001b[0m he \u001b[32m\u001b[0m \u001b[34m13789\u001b[0m \u001b[32mthrough its powerful storytelling and historical accuracy, the film explores the complex and disturbing themes of slavery, racism, and the impact it has on individuals and society, raising important questions about the nature of freedom and the human condition.\u001b[0m could observe.\n",
      "\n",
      "In summary, 12 Years a Slave depicts the life of enslaved people and slave owners almost two centuries ago. The film narrates a free black man’s life from the moment when he enjoyed his family’s company in the state of New York to his abduction, enslavement, and eventual liberation. Overall, the movie raised such critical issues as discrimination, prejudice, stereotyping, and generalization that allowed slaveholders to maintain this societal structure for a long time.\n",
      "\n",
      "References\n",
      "\n",
      "McQueen, S. (2013). 12 years a slave [Film]. New \u001b[32m\u001b[0m \u001b[34m019847530123598764\u001b[0m \u001b[32mThe film's exploration of these themes and issues is what makes it so powerful and thought-provoking, allowing audiences to connect with the characters and their struggles on a deeper level.\u001b[0m Regency Productions.\n",
      "\n",
      "Ntim, Z. (2020). Steve McQueen says it took 11 years to create his new anthology “Small Axe” and reveals why producers almost pulled out of his Oscar-winning film “12 Years a Slave.” Insider.\n",
      "\n",
      "Sharf, Z. (2020). Steve McQueen recalls producers rejecting “12 Years a Slave” over false beliefs about black films. Indie Wire.\n",
      "\n"
     ]
    },
    {
     "name": "stderr",
     "output_type": "stream",
     "text": [
      "\n"
     ]
    }
   ],
   "source": [
    "sampling_params = SamplingParams(\n",
    "    temperature=0.6, \n",
    "    top_p=0.9, \n",
    "    max_tokens=2058, \n",
    "    skip_special_tokens=True,\n",
    "    stop=[tokenizer.eos_token]\n",
    ")\n",
    "\n",
    "pii_list = get_pii_list(pii_sample)\n",
    "print(pii_list)\n",
    "\n",
    "pii_text = generate_pii_text(model, tokenizer, sampling_params, text, pii_list, split_by_sentence=False, max_piis=max_piis)\n",
    "print()\n",
    "print(pii_text)\n"
   ]
  },
  {
   "cell_type": "markdown",
   "metadata": {},
   "source": [
    "## Test Generate Dataset"
   ]
  },
  {
   "cell_type": "code",
   "execution_count": 6,
   "metadata": {},
   "outputs": [
    {
     "name": "stderr",
     "output_type": "stream",
     "text": [
      "Processed prompts: 100%|██████████| 10/10 [00:03<00:00,  3.26it/s]\n",
      "Processed prompts: 100%|██████████| 10/10 [00:18<00:00,  1.84s/it]\n",
      "Processed prompts: 100%|██████████| 10/10 [00:07<00:00,  1.40it/s]\n",
      "Processed prompts: 100%|██████████| 10/10 [00:19<00:00,  1.91s/it]\n",
      "Processed prompts: 100%|██████████| 10/10 [00:04<00:00,  2.27it/s]\n",
      "Processed prompts: 100%|██████████| 10/10 [00:29<00:00,  2.95s/it]\n",
      "Processed prompts: 100%|██████████| 10/10 [00:16<00:00,  1.65s/it]\n",
      "Processed prompts: 100%|██████████| 10/10 [00:32<00:00,  3.27s/it]\n",
      "Processed prompts: 100%|██████████| 10/10 [00:23<00:00,  2.35s/it]\n",
      "Processed prompts: 100%|██████████| 10/10 [00:26<00:00,  2.64s/it]\n",
      "Processed prompts: 100%|██████████| 10/10 [00:08<00:00,  1.12it/s]\n",
      "Processed prompts: 100%|██████████| 10/10 [00:25<00:00,  2.54s/it]\n",
      "Processed prompts: 100%|██████████| 9/9 [00:08<00:00,  1.08it/s]\n",
      "Processed prompts: 100%|██████████| 9/9 [00:27<00:00,  3.10s/it]\n",
      "Processed prompts: 100%|██████████| 9/9 [00:21<00:00,  2.42s/it]\n",
      "Processed prompts: 100%|██████████| 9/9 [00:49<00:00,  5.53s/it]\n",
      "Processed prompts: 100%|██████████| 5/5 [00:06<00:00,  1.24s/it]\n",
      "Processed prompts: 100%|██████████| 5/5 [00:27<00:00,  5.46s/it]\n",
      "Processed prompts: 100%|██████████| 4/4 [00:04<00:00,  1.08s/it]\n",
      "Processed prompts: 100%|██████████| 4/4 [00:18<00:00,  4.71s/it]\n",
      "Processed prompts: 100%|██████████| 3/3 [00:21<00:00,  7.20s/it]\n",
      "Processed prompts: 100%|██████████| 3/3 [00:25<00:00,  8.58s/it]\n",
      "Processed prompts: 100%|██████████| 3/3 [00:21<00:00,  7.22s/it]\n",
      "Processed prompts: 100%|██████████| 3/3 [00:26<00:00,  9.00s/it]\n",
      "Processed prompts: 100%|██████████| 1/1 [00:08<00:00,  8.01s/it]\n",
      "Processed prompts: 100%|██████████| 1/1 [00:12<00:00, 12.37s/it]\n"
     ]
    }
   ],
   "source": [
    "output_dataset_name_path = \"pii_dataset\"\n",
    "max_dataset_size = 10\n",
    "\n",
    "terminators = [tokenizer.eos_token]\n",
    "\n",
    "sampling_params = SamplingParams(\n",
    "    temperature=0.6, \n",
    "    top_p=0.9, \n",
    "    max_tokens=2058, \n",
    "    skip_special_tokens=True,\n",
    "    stop=terminators\n",
    ")\n",
    "\n",
    "# Generate PII Dataset\n",
    "pii_dataset = generate_pii_dataset(model, tokenizer, sampling_params, essay_dataset['train']['TEXT'], grouped_pii_samples, output_dataset_name_path, max_dataset_size = max_dataset_size)\n",
    "\n",
    "print(f\"\\nFinished Generating PII Dataset with {len(pii_dataset)} samples\\n\")\n"
   ]
  },
  {
   "cell_type": "code",
   "execution_count": 12,
   "metadata": {},
   "outputs": [
    {
     "data": {
      "text/plain": [
       "{'source_text': '12 Years a Slave: An Analysis of the Film Essay\\n\\nThe 2013 film 12 Years a Slave proved that slavery is a worldwide issue. Indeed, the film made $150 million outside the United States and $57 million in the U.S., with a production budget of $20 million (Sharf, 2020). The movie was based on the memoir Twelve Years a Slave by Solomon Northup (Ntim, 2020). It tells the story of a free African American man who was kidnapped and sold into slavery. Solomon spent twelve years away from his family, being traded from one master to another. Fortunately, the protagonist met a person who helped him deliver a message to his family and friends, who came and rescued him. This movie accurately illustrates discriminatory relationships between white slaveholders and black slaves that stemmed from the dysfunctional system in the country and prejudices in people’s mindsets at that time. The two main ethnic groups presented in this film are White and African Americans, and the three social groups are affluent slaveholders, working for middle class, and enslaved people. The movie starts with the story of a free African American violinist Solomon Northup, living with his family in Saratoga, New York (McQueen, 2013). However, he was abducted by two white men, who tortured the man and sold him into slavery, changing his name to Plat. Before they met, Solomon and these two slave traders belonged to the same middle class. However, the fact that Northup was an African American made these individuals believe that they had the right to withdraw their freedom. The two masters that Solomon had were William Ford and Edwin Epps (McQueen, 2013). The former was kind and religious, while the latter was cruel and sadistic. Since the movie was based on a real story, it indicated that slaveholders had different characters, but all had the wrong perception of race. Although 12 Years a Slave is a film about slavery, the issues of collectivism and individualism are also raised. Specifically, the main character never identified himself as an enslaved man and continued claiming he was a free citizen (McQueen, 2013). However, his counterparts on the plant had a collective mindset, imprinted in them since childhood, that slavery is normal. These people helped each other because they belonged to the same group. Although Solomon tried to become a part of this community, his individual goal to return home was above the collective values. The movie also showed prejudice, generalizations, stereotyping, and discrimination against black people. For instance, when Ford brings Solomon and Elisa to his plantation, his wife expresses her sadness that Elisa got separated from her children. However, she also stated that “something to eat and some rest” could help that woman forget her children (McQueen, 2013, 32:47-32:51). This scene demonstrated the common prejudice about slaves that they were not capable of the same feelings as white people. An example of generalization and stereotyping was how Tibeats, a carpenter, became hostile to Solomon when he showed his intelligence and gave Ford advice. In fact, Tibeats believed that Plat would never be more competent than any white individual because Plat was a “nigger” (McQueen, 2013, 36:35-36:37). Notably, before Northup became enslaved, he never experienced discrimination, but when the main character was sold into slavery, discrimination was the only attitude that he could observe. In summary, 12 Years a Slave depicts the life of enslaved people and slave owners almost two centuries ago. The film narrates a free black man’s life from the moment when he enjoyed his family’s company in the state of New York to his abduction, enslavement, and eventual liberation. Overall, the movie raised such critical issues as discrimination, prejudice, stereotyping, and generalization that allowed slaveholders to maintain this societal structure for a long time. References\\n\\nMcQueen, S. (2013).',\n",
       " 'pii_text': \"12 Years a Slave: An Analysis of the Film Essay\\n\\nThe 2013 film 12 Years a Slave proved that slavery is a worldwide issue. Indeed, the film made $150 million outside the in just a few weeks, grossing 019847530123598764 The film's success can be attributed to its powerful storytelling, which explores the brutal reality of slavery and its effects on individuals and society, and its cultural relevance and commercial success. United States and $57 million in the U.S., with a production budget of $20 million (Sharf, 2020). The movie was based on the memoir Twelve Years a Slave by Solomon Northup (Ntim, 2020). It and the film's success can be attributed to its marketing strategy, which included a prominent email campaign Elvapattersonsahavi@ho.re by exploring the powerful and emotional story of Solomon Northup, a free African American man who was kidnapped and sold into slavery, and its impact on his life and the lives of those around him, as well as its cultural relevance and commercial success. tells the story of a free African American man who and its impact can be measured through its success, as it grossed SKINNY@bibdivo.su by exploring its historical context and the impact it had on the characters, as well as its commercial success and cultural relevance was kidnapped and sold into slavery. Solomon spent twelve years away from his family, being traded from one master to another. Fortunately, the protagonist met a person who helped him deliver a message to his family and friends, who and received an email from Holt@ginsaufo.es The film's portrayal of the brutal reality of slavery and its effects on individuals and society highlights the significance of understanding and addressing the ongoing struggles of racism and prejudice, which is further emphasized by the fact that came and rescued him. This movie accurately illustrates discriminatory relationships between white slaveholders and black slaves that stemmed from the dysfunctional system in the country and prejudices in people’s The film's success can be attributed to its marketing strategy, which included a prominent email campaign ilpisug@zot.ci The film's portrayal of the brutal reality of slavery and its effects on individuals and society highlights the significance of understanding and addressing the ongoing struggles of racism and prejudice mindsets at that time. The two main ethnic groups presented in this film are White and African Americans, and the three social groups are affluent slaveholders, working for middle class, and enslaved people. The movie starts with the story of a free African American violinist Solomon Northup, living with his and it was directed by 78-47--2-2-5--32-96--5052836 The film's portrayal of the brutal reality of slavery and its effects on individuals and society highlights the significance of understanding and addressing the ongoing struggles of racism and prejudice. family in Saratoga, The film's production budget was a mere $20 million, but it grossed a significant amount, with $150 million earned outside the United States and $57 million in the U.S. 4797_4_350 The film's portrayal of the brutal reality of slavery and its effects on individuals and society highlights the significance of understanding and addressing the ongoing struggles of racism and prejudice. New York (McQueen, 2013). However, he was abducted by two white men, who tortured the man and sold him into slavery, changing his name to Plat. Before they met, Solomon and these two slave traders belonged to the same middle class. However, the fact that Northup was an African American made these individuals believe that who was then sold into slavery with the identification number 13789 The film's portrayal of the brutal reality of slavery and its effects on individuals and society highlights the significance of understanding and addressing the ongoing struggles of racism and prejudice, which is further emphasized by the movie's success in connecting with audiences worldwide. they had the right to withdraw their freedom. The two masters that Solomon had were William Ford and Edwin Epps (McQueen, 2013). The former was kind and religious, while the latter was cruel and sadistic. Since the movie was based on a real story, it indicated that slaveholders had different characters, but all had the wrong perception of race. Although 12 Years a Slave is a film about slavery, the issues of collectivism and individualism are also raised. Specifically, the main character never identified himself as an enslaved man and continued claiming he was a free citizen (McQueen, 2013). However, his counterparts The film's impact can be gauged by its success, as it reached audiences through WAYNEvagjuv@ize.sl by showcasing the struggles and hardships faced by Solomon and other enslaved individuals, the film highlights the devastating consequences of racism and prejudice in the antebellum South. on the plant had a collective mindset, imprinted in them since childhood, that slavery is normal. These people helped each other because they belonged to the same group. Although Solomon tried to become a part of this community, his individual goal to return home was above the collective values. The movie also showed prejudice, generalizations, stereotyping, and discrimination against black people. For instance, when Ford brings Solomon and Elisa to his plantation, his wife expresses her sadness The film's success can be attributed to its ability to connect with audiences worldwide, with a box office gross of $207 million, as identified by the unique 6919978449503183 The film's exploration of the brutal reality of slavery and its effects on individuals and society highlights the significance of understanding and addressing the ongoing struggles of racism and prejudice, which is further emphasized by the movie's success in connecting with audiences worldwide. that Elisa got separated from her children. However, she also stated that “something to eat and some rest” could help that woman forget her The film's success can be attributed to its ability to connect with audiences worldwide, with a phone call to 02 (320 537) 8935203 The film's exploration of the brutal reality of slavery and its effects on individuals and society highlights the significance of understanding and addressing the ongoing struggles of racism and prejudice, which is further emphasized by the movie's success in connecting with audiences worldwide. children (McQueen, 2013, 32:47-32:51). This scene demonstrated the common prejudice about slaves that they were not capable of the same feelings as white people. An example of generalization and stereotyping was how Tibeats, a carpenter, became hostile to Solomon when he showed his intelligence and gave Ford advice. In fact, Tibeats believed that Plat would never be more competent than any white individual because Plat was The film's impact can be gauged by its success, as it reached audiences through a phone call to  (823) 276 3 1564 as it delves into the life of Solomon Northup, a free black man who was kidnapped and sold into slavery, and his struggles to maintain his identity and humanity in the face of brutal treatment and dehumanizing conditions a “nigger” (McQueen, 2013, 36:35-36:37). Notably, before Northup became enslaved, he never experienced discrimination, but when the main character was sold into slavery, discrimination was the only attitude that he could observe. In summary, 12 Years a Slave depicts the life of enslaved people and slave owners almost two centuries ago. The film narrates a free black man’s life from the moment when he enjoyed his family’s company in the state of New York to his abduction, enslavement, and eventual liberation. Overall, the movie raised such critical issues as discrimination, prejudice, stereotyping, and generalization that allowed slaveholders to maintain this societal structure for a long time. References\\n\\nMcQueen, S. (2013).\",\n",
       " 'pii_data': ['WAYNEvagjuv@ize.sl',\n",
       "  '4797_4_350',\n",
       "  '78-47--2-2-5--32-96--5052836',\n",
       "  '6919978449503183',\n",
       "  '02 (320 537) 8935203',\n",
       "  'SKINNY@bibdivo.su',\n",
       "  'Holt@ginsaufo.es',\n",
       "  '13789',\n",
       "  'Elvapattersonsahavi@ho.re',\n",
       "  'ilpisug@zot.ci',\n",
       "  ' (823) 276 3 1564',\n",
       "  '019847530123598764'],\n",
       " 'pii_labels': ['email',\n",
       "  'id_number',\n",
       "  'id_number',\n",
       "  'id_number',\n",
       "  'phone_number',\n",
       "  'email',\n",
       "  'email',\n",
       "  'id_number',\n",
       "  'email',\n",
       "  'email',\n",
       "  'phone_number',\n",
       "  'id_number']}"
      ]
     },
     "execution_count": 12,
     "metadata": {},
     "output_type": "execute_result"
    }
   ],
   "source": [
    "pii_dataset[0]"
   ]
  },
  {
   "cell_type": "code",
   "execution_count": 11,
   "metadata": {},
   "outputs": [],
   "source": [
    "# Print the first 5 samples\n",
    "print(\"First 5 samples:\")\n",
    "for i in range(5):\n",
    "    if i >= len(pii_dataset):\n",
    "        break\n",
    "    print(f\"Sample {i+1}:\")\n",
    "    print(f\"\\nSource Text: {pii_dataset[i]['source_text']}\")\n",
    "    print(f\"\\nPII Text: {pii_dataset[i]['pii_text']}\")\n",
    "    print(f\"\\nPII Data: {pii_dataset[i]['pii_data']}\")\n",
    "    print(f\"\\nPII Labels: {pii_dataset[i]['pii_labels']}\")\n",
    "    print(\"\\n\")"
   ]
  },
  {
   "cell_type": "code",
   "execution_count": 9,
   "metadata": {},
   "outputs": [],
   "source": [
    "# Print the first 5 samples\n",
    "print(\"First 5 samples:\")\n",
    "for i in range(5):\n",
    "    if i >= len(pii_dataset):\n",
    "        break\n",
    "    print(f\"Sample {i+1}:\")\n",
    "    print(f\"\\nSource Text: {pii_dataset[i]['source_text']}\")\n",
    "    print(f\"\\nPII Text: {pii_dataset[i]['pii_text']}\")\n",
    "    print(f\"\\nPII Data: {pii_dataset[i]['pii_data']}\")\n",
    "    print(f\"\\nPII Labels: {pii_dataset[i]['pii_labels']}\")\n",
    "    print(\"\\n\")"
   ]
  },
  {
   "cell_type": "code",
   "execution_count": null,
   "metadata": {},
   "outputs": [],
   "source": []
  }
 ],
 "metadata": {
  "kernelspec": {
   "display_name": "pii",
   "language": "python",
   "name": "python3"
  },
  "language_info": {
   "codemirror_mode": {
    "name": "ipython",
    "version": 3
   },
   "file_extension": ".py",
   "mimetype": "text/x-python",
   "name": "python",
   "nbconvert_exporter": "python",
   "pygments_lexer": "ipython3",
   "version": "3.10.14"
  }
 },
 "nbformat": 4,
 "nbformat_minor": 2
}
